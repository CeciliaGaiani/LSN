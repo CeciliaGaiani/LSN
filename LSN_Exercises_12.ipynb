{
  "cells": [
    {
      "cell_type": "markdown",
      "metadata": {
        "id": "view-in-github",
        "colab_type": "text"
      },
      "source": [
        "<a href=\"https://colab.research.google.com/github/CeciliaGaiani/LSN/blob/main/LSN_Exercises_12.ipynb\" target=\"_parent\"><img src=\"https://colab.research.google.com/assets/colab-badge.svg\" alt=\"Open In Colab\"/></a>"
      ]
    },
    {
      "cell_type": "markdown",
      "metadata": {
        "id": "lCiOPjmsGq5b"
      },
      "source": [
        "# <span style=\"color:green\"> Numerical Simulation Laboratory </span>\n",
        "## <span style=\"color:brown\"> Python Exercise 12 </span>\n",
        "## <span style=\"color:orange\"> Keras - Deep & Convolutional Neural Network image recognition </span>"
      ]
    },
    {
      "cell_type": "markdown",
      "source": [
        "## <span style=\"color:orange\"> **Note teoriche**\n",
        "### **Reti Neurali Convoluzionali (CNNs)**\n",
        "Molti problemi affrontati attraverso algoritmi di machine learning presentano strutture e simmetrie intrinseche. Tra queste figurano la\n",
        "**località**, il fatto che le informazioni rilevanti si limitino a porzioni finite più o meno ampie di dati, e l'**invarianza traslazionale**, per cui le caratteristiche significative dei dati non dipendono dalla posizione assoluta, ma solo dal fatto che siano presenti.\n",
        "\n",
        "Un esempio evidente di ciò si osserva negli algoritmi di supervised learning per la classificazione di immagini. In questi casi, l’algoritmo deve essere in grado di riconoscere determinate caratteristiche visive, come bordi, curve o texture, indipendentemente da dove si trovano all’interno dell’immagine, al fine di collocarla in una data classe di appartenenza. Queste caratteristiche sono spesso locali, e la loro presenza è ciò che conta, non la loro posizione specifica.\n",
        "\n",
        "A tal fine, sono state disegnate le **Reti Neurali Convoluzionali (CNNs)**, che sono in grado di soddisfare località e invarianza traslazionale dei dati di input. Le CNN sono costruite su due tipi di layer di neuroni:\n",
        "- **layer di convoluzione**: il layer legge l'input e applica una serie di **filtri**. I filtri scorrono sull'immagine calcolando la **convoluzione**, cioè una media pesata di pixel vicini, al fine di estrarre le caratteristiche locali dell'immagine, come bordi, texture e forme. In questo modo, l'immagine originale è trasformata in mappe caratteristiche, ciascuna delle quali evidenzia dettagli specifici dell'immagine;\n",
        "\n",
        "- **layer di pooling**: riduce la dimensione spaziale dell'input, e così il numero di dati da elaborare, preservavando le informazioni più importanti relative alla struttura spaziale (posizione e vicinanza degli elementi), grazie alle informazioni estratte dai filtri.\n",
        "\n",
        "In una CNN, ogni layer convoluzionale $l$ ha:\n",
        "\n",
        "- **Altezza** ($H_l$) e **larghezza** ($W_l$), che rappresentano la dimensione spaziale bidimensionale del layer (in neuroni). Nel caso dell'input layer per un'immagine, $H_l \\times W_l$ corrisponde al numero di pixel dell'immagine;\n",
        "- **Profondità** ($D_l$), che indica il numero di canali del layer. Ad esempio, un’immagine RGB ha 3 canali.\n",
        "\n",
        "Per ogni layer sono applicati dei **filtri locali**, che prendono in input una piccola porzione spaziale del layer precedente su ciascun canale. Nel caso 2D, consideriamo un filtro quadrato di dimensione $F \\times F$: si può rappresentare come una matrice le cui componenti, definite **pesi**, hanno valori legati a ciò che il filtro sta cercando. Il filtro ha profondità pari al numeri di canali dell'input.\n",
        "\n",
        "L’operazione di convoluzione consiste nel far scorrere il filtro su tutto lo spazio, realizzando un prodotto scalare tra i pesi e la regione di input corrispondente. Tale operazione è effettuata per ogni canale in maniera indipendente, al fine di ottenere per ognuno di essi una diversa mappa di attivazione, ciascuna delle quali cattura una diversa caratteristica dell'immagine analizzata. Il numero di neuroni di cui trasliamo il filtro per ogni step è detto **stride $S$**. Eventualmente, è possibile aggiungere un **padding $P$**, cioè degli zeri ai bordi dell'input, per controllare le dimensioni dell’output della convoluzione e preservare le informazioni ai bordi dell’input.\n",
        "\n",
        "Dopo l'applicazine del filtro ad un layer di altezza $H_{in}$ e larghezza $W_{in}$, la dimensione dell'output risulta:\n",
        "\n",
        "$$\n",
        "\\text{Output}_{altezza} = \\left\\lfloor \\frac{H_{in} - F + 2P}{S} \\right\\rfloor + 1\n",
        "$$\n",
        "\n",
        "$$\n",
        "\\text{Output}_{larghezza} = \\left\\lfloor \\frac{W_{in} - F + 2P}{S} \\right\\rfloor + 1\n",
        "$$\n",
        "\n",
        "I risultati associati all'applicazione del filtro per ogni canale vengono poi sommati al fine di ottenere un unico output. La profondità  del layer di output sarà pari al numero di filtri utilizzati. Eventualmente, è possibile aggiungere un **bias** $b$, che viene sommato al risultato del prodotto scalare, permettendo al neurone di attivarsi anche se la somma pesata degli input è nulla (è possibile spostare la soglia di attivazione del filtro, al fine di rappresentare anche pattern più complessi che altrimenti non sarebbero visibili).\n",
        "\n",
        "Successivamente, vengono applicati i layer di pooling, che hanno lo scopo di ridurre la dimensione spaziale dell'output preservando le informazioni individuate nel processo di convoluzione. Il più comune layer di convoluzione è il **max-pooling**, in cui si legge un piccolo blocco locale e lo sostituisce con il valore massimo del blocco.\n",
        "\n",
        "Successivamente vengono inseriti un **fully connected layer**, al fine di collegare ogni neurone a tutti i neuroni del filtro precedente, combinando le caratteristiche estratte e prendere la decisione globale, sfruttando tutte le informazioni a disposizone, e da\n",
        "un **layer Softmax**, che trasforma l'output numerico del fully connected layer nella probabilità si appartenenza ad una data classe.\n",
        "\n",
        "Le CNN si allenano con lo stesso algoritmo delle reti neurali standard, cioè la **backpropagation**. La differenza è che nelle CNN i parametri (pesi e bias) sono condivisi tra neuroni dello stesso filtro, quindi il numero totale di parametri è molto più basso, permettendo di allenare modelli molto più vasti e profondi. Inoltre, i filtri appresi da una CNN riconoscono caratteristiche visive fondamentali (es. bordi, curve), che sono comuni in tante immagini, per cui quanto appreso su un certo dataset può funzionare, a patto di modifiche minimali, anche su altri input simili.    \n",
        "\n",
        "---"
      ],
      "metadata": {
        "id": "fdkCSPlL4HiH"
      }
    },
    {
      "cell_type": "markdown",
      "metadata": {
        "id": "ClWN1_B_Gq5e"
      },
      "source": [
        "### MNIST with Keras\n",
        "\n",
        "The goal of exercise 12 is to use deep neural network models, implemented in the Keras python package, to recognize and distinguish between the ten handwritten digits (0-9).\n",
        "\n",
        "The MNIST dataset comprises $70000$ handwritten digits, each of which comes in a square image, divided into a $28\\times 28$ pixel grid. Every pixel can take on $256$ gradation of the gray color, interpolating between white and black, and hence each data point assumes any value in the set $\\{0,1,\\dots,255\\}$. Since there are $10$ categories in the problem, corresponding to the ten digits, this problem represents a generic **classification task**."
      ]
    },
    {
      "cell_type": "code",
      "execution_count": 1,
      "metadata": {
        "id": "XOdaZAq0Gq5g"
      },
      "outputs": [],
      "source": [
        "import tensorflow as tf\n",
        "from tensorflow import keras\n",
        "import os\n",
        "import numpy as np\n",
        "import matplotlib.pyplot as plt\n",
        "seed=0\n",
        "np.random.seed(seed)\n",
        "tf.random.set_seed(seed)"
      ]
    },
    {
      "cell_type": "markdown",
      "metadata": {
        "id": "1sRSZySsGq5h"
      },
      "source": [
        "#### Step 1: Load and Process the Data\n",
        "\n",
        "Keras can conveniently download the MNIST data from the web. All we need to do is import the `mnist` module and use the `load_data()` class, and it will create the training and test data sets or us.\n",
        "\n",
        "The MNIST set has pre-defined test and training sets, in order to facilitate the comparison of the performance of different models on the data.\n",
        "\n",
        "Once we have loaded the data, we need to format it in the correct shape."
      ]
    },
    {
      "cell_type": "code",
      "execution_count": 2,
      "metadata": {
        "colab": {
          "base_uri": "https://localhost:8080/"
        },
        "id": "ua0jYBwxGq5i",
        "outputId": "04e70be6-43f5-4bf9-bb30-419653a50113"
      },
      "outputs": [
        {
          "output_type": "stream",
          "name": "stdout",
          "text": [
            "Downloading data from https://storage.googleapis.com/tensorflow/tf-keras-datasets/mnist.npz\n",
            "\u001b[1m11490434/11490434\u001b[0m \u001b[32m━━━━━━━━━━━━━━━━━━━━\u001b[0m\u001b[37m\u001b[0m \u001b[1m0s\u001b[0m 0us/step\n",
            "X_train shape: (60000, 28, 28)\n",
            "Y_train shape: (60000,)\n"
          ]
        }
      ],
      "source": [
        "from keras.datasets import mnist\n",
        "\n",
        "# Dimensioni dell'immagine di input (numero di pixels).\n",
        "img_rows, img_cols = 28, 28\n",
        "\n",
        "# Numero delle classi di output: sono le 10 cifre da 0 a 9.\n",
        "num_classes = 10\n",
        "\n",
        "# X_train: contiene le immagini usate per l’addestramento (60.000 immagini).\n",
        "# Y_train: contiene le etichette corrispondenti alle immagini di training (cioè la cifra che rappresenta ogni immagine).\n",
        "# X_test e Y_test fanno la stessa cosa ma per il set di test (10.000 immagini).\n",
        "# Dopo il caricamento, il codice stampa le dimensioni degli array X_train e Y_train. Questo serve a verificare che i dati siano stati caricati correttamente.\n",
        "# X_train.shape dovrebbe stampare (60000, 28, 28), ovvero 60.000 immagini da 28x28 pixel. Y_train.shape, invece, dovrebbe stampare (60000,), cioè un array con 60.000 valori numerici (da 0 a 9). Stessa cosa vale per i dati test.\n",
        "(X_train, Y_train), (X_test, Y_test) = mnist.load_data()\n",
        "\n",
        "print('X_train shape:', X_train.shape)\n",
        "print('Y_train shape:', Y_train.shape)"
      ]
    },
    {
      "cell_type": "markdown",
      "metadata": {
        "id": "HdjL6gj1Gq5k"
      },
      "source": [
        "#### Example: to_categorical\n",
        "\n",
        "Converts a class vector (integers) to binary class matrix. E.g. for use with categorical_crossentropy."
      ]
    },
    {
      "cell_type": "code",
      "execution_count": 3,
      "metadata": {
        "colab": {
          "base_uri": "https://localhost:8080/"
        },
        "id": "udaRiK-eGq5l",
        "outputId": "2ab8e2ea-8a7c-4173-c604-2f6aab7b1b52"
      },
      "outputs": [
        {
          "output_type": "execute_result",
          "data": {
            "text/plain": [
              "array([[1., 0., 0.],\n",
              "       [0., 0., 1.],\n",
              "       [0., 1., 0.],\n",
              "       [0., 0., 1.],\n",
              "       [1., 0., 0.]])"
            ]
          },
          "metadata": {},
          "execution_count": 3
        }
      ],
      "source": [
        "# Si consideri un array di etichette, ciascuna delle quali appartiene ad una delle possibili classi {0, 1, 2}:\n",
        "labels = np.array([0, 2, 1, 2, 0])\n",
        "\n",
        "# to_categorical trasforma ciascuna etichetta numerica in un vettore binario in cui la posizione corrispondente alla classe viene impostata a 1.\n",
        "# Tutte le altre posizioni vengono impostate a 0. Ad esempio: l’etichetta 0 diventa [1, 0, 0], l’etichetta 1 diventa [0, 1, 0], l’etichetta 2 diventa [0, 0, 1].\n",
        "\n",
        "keras.utils.to_categorical(labels)\n",
        "\n",
        "# L'array è trasformato come riportato sotto:"
      ]
    },
    {
      "cell_type": "markdown",
      "metadata": {
        "id": "mX54VLHkGq5m"
      },
      "source": [
        "#### Reshape data and convert labels to be used with categorical cross entropy"
      ]
    },
    {
      "cell_type": "code",
      "execution_count": 4,
      "metadata": {
        "colab": {
          "base_uri": "https://localhost:8080/",
          "height": 573
        },
        "id": "WKt81CbiGq5n",
        "outputId": "8d42d970-65a6-4ef6-f5ec-8fc9008d1a42"
      },
      "outputs": [
        {
          "output_type": "stream",
          "name": "stdout",
          "text": [
            "X_train shape: (60000, 784)\n",
            "X_test shape: (10000, 784)\n",
            "\n",
            "An example of a data point with label 4\n"
          ]
        },
        {
          "output_type": "display_data",
          "data": {
            "text/plain": [
              "<Figure size 480x480 with 1 Axes>"
            ],
            "image/png": "[encoded data removed]"
          },
          "metadata": {}
        },
        {
          "output_type": "stream",
          "name": "stdout",
          "text": [
            "... and with label [0. 0. 0. 0. 1. 0. 0. 0. 0. 0.] after to_categorical\n",
            "\n",
            "X_train shape: (60000, 784)\n",
            "Y_train shape: (60000, 10)\n"
          ]
        }
      ],
      "source": [
        "# Trasformo ciascuna immagine 28x28 in un vettore di 784 componenti. Dunque, prima: X_train.shape = (60000, 28, 28); dopo: X_train.shape = (60000, 784).\n",
        "X_train = X_train.reshape(X_train.shape[0], img_rows*img_cols)\n",
        "X_test = X_test.reshape(X_test.shape[0], img_rows*img_cols)\n",
        "print('X_train shape:', X_train.shape)\n",
        "print('X_test shape:', X_test.shape)\n",
        "print()\n",
        "\n",
        "# Tutti i pixel (inizialmente numeri interi tra 0 e 255) vengano trattati come numeri in virgola mobile.\n",
        "X_train = X_train.astype('float32')\n",
        "X_test = X_test.astype('float32')\n",
        "\n",
        "# Ogni valore di pixel è diviso per 255, cioè il valore massimo possibile per un pixel in scala di grigi.\n",
        "# In questo modo i valori dei pixel sono compresi tra 0 e 1.\n",
        "X_train /= 255\n",
        "X_test /= 255\n",
        "\n",
        "# Esempio: viene stampata l’etichetta (cioè la cifra) dell’immagine in posizione 20, e poi viene ricostruita e visualizzata l’immagine corrispondente, usando matshow di Matplotlib.\n",
        "# X_train[20,:] è il vettore lungo 784 che rappresenta l’immagine in posizione 20.\n",
        "# .reshape(28,28) lo riporta alla forma originale per poterlo disegnare.\n",
        "\n",
        "print('An example of a data point with label', Y_train[20])\n",
        "plt.matshow(X_train[20,:].reshape(28,28),cmap='binary')\n",
        "plt.show()\n",
        "\n",
        "# Uso di to_categorical per trasformare le etichette delle cifre da 0 a 9 (necessario per usare la funzione crossentropy come loss).\n",
        "Y_train = keras.utils.to_categorical(Y_train, num_classes)\n",
        "Y_test = keras.utils.to_categorical(Y_test, num_classes)\n",
        "print('... and with label', Y_train[20], 'after to_categorical')\n",
        "print()\n",
        "print('X_train shape:', X_train.shape)\n",
        "print('Y_train shape:', Y_train.shape)"
      ]
    },
    {
      "cell_type": "markdown",
      "metadata": {
        "id": "PJCNTsoVGq5o"
      },
      "source": [
        "#### Step 2: Define the Neural Net and its Architecture\n",
        "\n",
        "We can now move on to construct our deep neural net. We shall use Keras's `Sequential()` class to instantiate a model, and will add different deep layers one by one using the `add()` method\n",
        "\n",
        "For the purposes of our example, it suffices to focus on `Dense` layers for simplicity. Every `Dense()` layer accepts as its first required argument an integer which specifies the number of neurons. The type of activation function for the layer is defined using the `activation` optional argument, the input of which is the name of the activation function in `string` format. Examples include `relu`, `tanh`, `elu`, `sigmoid`, `softmax`.\n",
        "\n",
        "In order for our DNN to work properly, we have to make sure that the numbers of input and output neurons for each layer match. Therefore, we specify the shape of the input in the first layer of the model explicitly using the optional argument `input_shape=(N_features,)`. The sequential construction of the model then allows Keras to infer the correct input/output dimensions of all hidden layers automatically. Hence, we only need to specify the size of the softmax output layer to match the number of categories."
      ]
    },
    {
      "cell_type": "code",
      "execution_count": 5,
      "metadata": {
        "id": "bJ1EPjpmGq5o"
      },
      "outputs": [],
      "source": [
        "from keras.models import Sequential\n",
        "from keras.layers import Dense, Dropout\n",
        "\n",
        "# Creazione della rete neurale. Modello sequenziale in cui si utilizzano:\n",
        "# - primo layer di neuroni, con 400 neuroni, ciascuno completamente connesso a tutti i 784 input. La funzione di attivazione è ReLU;\n",
        "# - secondo layer, anche questo completamente connesso, con 100 neuroni e attivazione ReLU;\n",
        "# - layer di dropout, che disattiva casualmente il 50% dei neuroni  durante l’addestramento;\n",
        "#   Serve per evitare l'overfitting. Durante il test o la predizione, il dropout è disattivato e il modello usa tutti i neuroni;\n",
        "# - Layer denso in cui il numero di neuroni corrisponde al numero di classi (in questo caso 10, cioè le cifre da 0 a 9).\n",
        "#   L’attivazione softmax converte l’output in probabilità, cioè un vettore con 10 valori compresi tra 0 e 1 che sommano a 1.\n",
        "#   Questo permette al modello di definire con che probabilità l’immagine appartiene a ciascuna classe.\n",
        "\n",
        "def create_DNN():\n",
        "    model = Sequential()\n",
        "    model.add(Dense(400,input_shape=(img_rows*img_cols,), activation='relu'))\n",
        "    model.add(Dense(100, activation='relu'))\n",
        "    model.add(Dropout(0.5))\n",
        "    model.add(Dense(num_classes, activation='softmax'))\n",
        "\n",
        "    return model\n"
      ]
    },
    {
      "cell_type": "markdown",
      "metadata": {
        "id": "w8iCmyhzGq5p"
      },
      "source": [
        "#### Step 3: Choose the Optimizer and the Cost Function\n",
        "\n",
        "Next, we choose the loss function according to which to train the DNN. For classification problems, this is the cross entropy, and since the output data was cast in categorical form, we choose the `categorical_crossentropy` defined in Keras' `losses` module. Depending on the problem of interest one can pick any other suitable loss function. To optimize the weights of the net, we choose SGD. This algorithm is already available to use under Keras' `optimizers` module, but we could use any other built-in one as well. The parameters for the optimizer, such as `lr` (learning rate) or `momentum` are passed using the corresponding optional arguments of the `SGD()` function. All available arguments can be found in Keras' online documentation at [https://keras.io/](https://keras.io/). While the loss function and the optimizer are essential for the training procedure, to test the performance of the model one may want to look at a particular `metric` of performance. For instance, in categorical tasks one typically looks at their `accuracy`, which is defined as the percentage of correctly classified data points. To complete the definition of our model, we use the `compile()` method, with optional arguments for the `optimizer`, `loss`, and the validation `metric` as follows:"
      ]
    },
    {
      "cell_type": "code",
      "execution_count": 6,
      "metadata": {
        "id": "J4uc72C1Gq5q"
      },
      "outputs": [],
      "source": [
        "from keras.optimizers import SGD, Adam, RMSprop, Adagrad, Adadelta, Adam, Adamax, Nadam\n",
        "\n",
        "# Creo e compilo il modello. Come funzione di loss si usa la categorical_crossentropy.\n",
        "# Serve a misurare quanto l’output del modello si discosta dalle etichette reali. Più è bassa, meglio il modello sta imparando.\n",
        "# Si può scegliere l'ottimizzatore da utilizzare.\n",
        "# Come metrica di valutazione si usa l'accuratezza, cioè la percentuale di esempi classificati correttamente durante l’addestramento e la valutazione.\n",
        "\n",
        "def compile_model():\n",
        "    model=create_DNN()\n",
        "    model.compile(loss=keras.losses.categorical_crossentropy,\n",
        "                  optimizer=Adam(),\n",
        "                  metrics=['acc'])\n",
        "    return model"
      ]
    },
    {
      "cell_type": "markdown",
      "metadata": {
        "id": "O5TMtyvkGq5r"
      },
      "source": [
        "#### Step 4: Train the model\n",
        "\n",
        "We train our DNN in minibatches.\n",
        "\n",
        "Shuffling the training data during training improves stability of the model. Thus, we train over a number of training epochs. Each epoch corresponds to using **all the train data** divided in minibatches.\n",
        "\n",
        "Training the DNN is a one-liner using the `fit()` method of the `Sequential` class. The first two required arguments are the training input and output data. As optional arguments, we specify the mini-`batch_size`, the number of training `epochs`, and the test or `validation_data`. To monitor the training procedure for every epoch, we set `verbose=True`."
      ]
    },
    {
      "cell_type": "code",
      "execution_count": 7,
      "metadata": {
        "colab": {
          "base_uri": "https://localhost:8080/"
        },
        "id": "HsfWHnpPGq5s",
        "outputId": "7fb5be3a-761b-4b6c-e419-561fd510949a"
      },
      "outputs": [
        {
          "output_type": "stream",
          "name": "stderr",
          "text": [
            "/usr/local/lib/python3.12/dist-packages/keras/src/layers/core/dense.py:93: UserWarning: Do not pass an `input_shape`/`input_dim` argument to a layer. When using Sequential models, prefer using an `Input(shape)` object as the first layer in the model instead.\n",
            "  super().__init__(activity_regularizer=activity_regularizer, **kwargs)\n"
          ]
        },
        {
          "output_type": "stream",
          "name": "stdout",
          "text": [
            "Epoch 1/50\n",
            "\u001b[1m1875/1875\u001b[0m \u001b[32m━━━━━━━━━━━━━━━━━━━━\u001b[0m\u001b[37m\u001b[0m \u001b[1m21s\u001b[0m 10ms/step - acc: 0.8561 - loss: 0.4779 - val_acc: 0.9650 - val_loss: 0.1099\n",
            "Epoch 2/50\n",
            "\u001b[1m1875/1875\u001b[0m \u001b[32m━━━━━━━━━━━━━━━━━━━━\u001b[0m\u001b[37m\u001b[0m \u001b[1m13s\u001b[0m 7ms/step - acc: 0.9606 - loss: 0.1384 - val_acc: 0.9683 - val_loss: 0.0999\n",
            "Epoch 3/50\n",
            "\u001b[1m1875/1875\u001b[0m \u001b[32m━━━━━━━━━━━━━━━━━━━━\u001b[0m\u001b[37m\u001b[0m \u001b[1m13s\u001b[0m 7ms/step - acc: 0.9719 - loss: 0.0982 - val_acc: 0.9765 - val_loss: 0.0763\n",
            "Epoch 4/50\n",
            "\u001b[1m1875/1875\u001b[0m \u001b[32m━━━━━━━━━━━━━━━━━━━━\u001b[0m\u001b[37m\u001b[0m \u001b[1m13s\u001b[0m 7ms/step - acc: 0.9790 - loss: 0.0724 - val_acc: 0.9792 - val_loss: 0.0746\n",
            "Epoch 5/50\n",
            "\u001b[1m1875/1875\u001b[0m \u001b[32m━━━━━━━━━━━━━━━━━━━━\u001b[0m\u001b[37m\u001b[0m \u001b[1m14s\u001b[0m 8ms/step - acc: 0.9823 - loss: 0.0565 - val_acc: 0.9777 - val_loss: 0.0806\n",
            "Epoch 6/50\n",
            "\u001b[1m1875/1875\u001b[0m \u001b[32m━━━━━━━━━━━━━━━━━━━━\u001b[0m\u001b[37m\u001b[0m \u001b[1m19s\u001b[0m 7ms/step - acc: 0.9853 - loss: 0.0473 - val_acc: 0.9789 - val_loss: 0.0838\n",
            "Epoch 7/50\n",
            "\u001b[1m1875/1875\u001b[0m \u001b[32m━━━━━━━━━━━━━━━━━━━━\u001b[0m\u001b[37m\u001b[0m \u001b[1m13s\u001b[0m 7ms/step - acc: 0.9856 - loss: 0.0452 - val_acc: 0.9798 - val_loss: 0.0815\n",
            "Epoch 8/50\n",
            "\u001b[1m1875/1875\u001b[0m \u001b[32m━━━━━━━━━━━━━━━━━━━━\u001b[0m\u001b[37m\u001b[0m \u001b[1m20s\u001b[0m 11ms/step - acc: 0.9889 - loss: 0.0351 - val_acc: 0.9798 - val_loss: 0.0906\n",
            "Epoch 9/50\n",
            "\u001b[1m1875/1875\u001b[0m \u001b[32m━━━━━━━━━━━━━━━━━━━━\u001b[0m\u001b[37m\u001b[0m \u001b[1m15s\u001b[0m 8ms/step - acc: 0.9900 - loss: 0.0327 - val_acc: 0.9811 - val_loss: 0.0877\n",
            "Epoch 10/50\n",
            "\u001b[1m1875/1875\u001b[0m \u001b[32m━━━━━━━━━━━━━━━━━━━━\u001b[0m\u001b[37m\u001b[0m \u001b[1m12s\u001b[0m 7ms/step - acc: 0.9906 - loss: 0.0289 - val_acc: 0.9783 - val_loss: 0.1114\n",
            "Epoch 11/50\n",
            "\u001b[1m1875/1875\u001b[0m \u001b[32m━━━━━━━━━━━━━━━━━━━━\u001b[0m\u001b[37m\u001b[0m \u001b[1m13s\u001b[0m 7ms/step - acc: 0.9913 - loss: 0.0288 - val_acc: 0.9812 - val_loss: 0.1018\n",
            "Epoch 12/50\n",
            "\u001b[1m1875/1875\u001b[0m \u001b[32m━━━━━━━━━━━━━━━━━━━━\u001b[0m\u001b[37m\u001b[0m \u001b[1m13s\u001b[0m 7ms/step - acc: 0.9921 - loss: 0.0245 - val_acc: 0.9818 - val_loss: 0.1009\n",
            "Epoch 13/50\n",
            "\u001b[1m1875/1875\u001b[0m \u001b[32m━━━━━━━━━━━━━━━━━━━━\u001b[0m\u001b[37m\u001b[0m \u001b[1m20s\u001b[0m 7ms/step - acc: 0.9933 - loss: 0.0228 - val_acc: 0.9800 - val_loss: 0.1160\n",
            "Epoch 14/50\n",
            "\u001b[1m1875/1875\u001b[0m \u001b[32m━━━━━━━━━━━━━━━━━━━━\u001b[0m\u001b[37m\u001b[0m \u001b[1m13s\u001b[0m 7ms/step - acc: 0.9929 - loss: 0.0242 - val_acc: 0.9809 - val_loss: 0.1005\n",
            "Epoch 15/50\n",
            "\u001b[1m1875/1875\u001b[0m \u001b[32m━━━━━━━━━━━━━━━━━━━━\u001b[0m\u001b[37m\u001b[0m \u001b[1m13s\u001b[0m 7ms/step - acc: 0.9928 - loss: 0.0220 - val_acc: 0.9809 - val_loss: 0.1194\n",
            "Epoch 16/50\n",
            "\u001b[1m1875/1875\u001b[0m \u001b[32m━━━━━━━━━━━━━━━━━━━━\u001b[0m\u001b[37m\u001b[0m \u001b[1m13s\u001b[0m 7ms/step - acc: 0.9924 - loss: 0.0245 - val_acc: 0.9790 - val_loss: 0.1367\n",
            "Epoch 17/50\n",
            "\u001b[1m1875/1875\u001b[0m \u001b[32m━━━━━━━━━━━━━━━━━━━━\u001b[0m\u001b[37m\u001b[0m \u001b[1m12s\u001b[0m 7ms/step - acc: 0.9937 - loss: 0.0197 - val_acc: 0.9818 - val_loss: 0.1182\n",
            "Epoch 18/50\n",
            "\u001b[1m1875/1875\u001b[0m \u001b[32m━━━━━━━━━━━━━━━━━━━━\u001b[0m\u001b[37m\u001b[0m \u001b[1m12s\u001b[0m 7ms/step - acc: 0.9941 - loss: 0.0177 - val_acc: 0.9827 - val_loss: 0.1278\n",
            "Epoch 19/50\n",
            "\u001b[1m1875/1875\u001b[0m \u001b[32m━━━━━━━━━━━━━━━━━━━━\u001b[0m\u001b[37m\u001b[0m \u001b[1m12s\u001b[0m 7ms/step - acc: 0.9941 - loss: 0.0207 - val_acc: 0.9832 - val_loss: 0.1188\n",
            "Epoch 20/50\n",
            "\u001b[1m1875/1875\u001b[0m \u001b[32m━━━━━━━━━━━━━━━━━━━━\u001b[0m\u001b[37m\u001b[0m \u001b[1m12s\u001b[0m 7ms/step - acc: 0.9945 - loss: 0.0172 - val_acc: 0.9826 - val_loss: 0.1392\n",
            "Epoch 21/50\n",
            "\u001b[1m1875/1875\u001b[0m \u001b[32m━━━━━━━━━━━━━━━━━━━━\u001b[0m\u001b[37m\u001b[0m \u001b[1m13s\u001b[0m 7ms/step - acc: 0.9943 - loss: 0.0175 - val_acc: 0.9822 - val_loss: 0.1437\n",
            "Epoch 22/50\n",
            "\u001b[1m1875/1875\u001b[0m \u001b[32m━━━━━━━━━━━━━━━━━━━━\u001b[0m\u001b[37m\u001b[0m \u001b[1m13s\u001b[0m 7ms/step - acc: 0.9945 - loss: 0.0182 - val_acc: 0.9828 - val_loss: 0.1360\n",
            "Epoch 23/50\n",
            "\u001b[1m1875/1875\u001b[0m \u001b[32m━━━━━━━━━━━━━━━━━━━━\u001b[0m\u001b[37m\u001b[0m \u001b[1m13s\u001b[0m 7ms/step - acc: 0.9961 - loss: 0.0145 - val_acc: 0.9798 - val_loss: 0.1656\n",
            "Epoch 24/50\n",
            "\u001b[1m1875/1875\u001b[0m \u001b[32m━━━━━━━━━━━━━━━━━━━━\u001b[0m\u001b[37m\u001b[0m \u001b[1m13s\u001b[0m 7ms/step - acc: 0.9947 - loss: 0.0181 - val_acc: 0.9818 - val_loss: 0.1493\n",
            "Epoch 25/50\n",
            "\u001b[1m1875/1875\u001b[0m \u001b[32m━━━━━━━━━━━━━━━━━━━━\u001b[0m\u001b[37m\u001b[0m \u001b[1m13s\u001b[0m 7ms/step - acc: 0.9962 - loss: 0.0120 - val_acc: 0.9817 - val_loss: 0.1612\n",
            "Epoch 26/50\n",
            "\u001b[1m1875/1875\u001b[0m \u001b[32m━━━━━━━━━━━━━━━━━━━━\u001b[0m\u001b[37m\u001b[0m \u001b[1m13s\u001b[0m 7ms/step - acc: 0.9953 - loss: 0.0155 - val_acc: 0.9818 - val_loss: 0.1386\n",
            "Epoch 27/50\n",
            "\u001b[1m1875/1875\u001b[0m \u001b[32m━━━━━━━━━━━━━━━━━━━━\u001b[0m\u001b[37m\u001b[0m \u001b[1m13s\u001b[0m 7ms/step - acc: 0.9963 - loss: 0.0127 - val_acc: 0.9822 - val_loss: 0.1671\n",
            "Epoch 28/50\n",
            "\u001b[1m1875/1875\u001b[0m \u001b[32m━━━━━━━━━━━━━━━━━━━━\u001b[0m\u001b[37m\u001b[0m \u001b[1m13s\u001b[0m 7ms/step - acc: 0.9956 - loss: 0.0185 - val_acc: 0.9817 - val_loss: 0.1552\n",
            "Epoch 29/50\n",
            "\u001b[1m1875/1875\u001b[0m \u001b[32m━━━━━━━━━━━━━━━━━━━━\u001b[0m\u001b[37m\u001b[0m \u001b[1m13s\u001b[0m 7ms/step - acc: 0.9959 - loss: 0.0147 - val_acc: 0.9832 - val_loss: 0.1443\n",
            "Epoch 30/50\n",
            "\u001b[1m1875/1875\u001b[0m \u001b[32m━━━━━━━━━━━━━━━━━━━━\u001b[0m\u001b[37m\u001b[0m \u001b[1m13s\u001b[0m 7ms/step - acc: 0.9960 - loss: 0.0131 - val_acc: 0.9829 - val_loss: 0.1713\n",
            "Epoch 31/50\n",
            "\u001b[1m1875/1875\u001b[0m \u001b[32m━━━━━━━━━━━━━━━━━━━━\u001b[0m\u001b[37m\u001b[0m \u001b[1m13s\u001b[0m 7ms/step - acc: 0.9965 - loss: 0.0132 - val_acc: 0.9822 - val_loss: 0.1643\n",
            "Epoch 32/50\n",
            "\u001b[1m1875/1875\u001b[0m \u001b[32m━━━━━━━━━━━━━━━━━━━━\u001b[0m\u001b[37m\u001b[0m \u001b[1m13s\u001b[0m 7ms/step - acc: 0.9965 - loss: 0.0127 - val_acc: 0.9809 - val_loss: 0.1797\n",
            "Epoch 33/50\n",
            "\u001b[1m1875/1875\u001b[0m \u001b[32m━━━━━━━━━━━━━━━━━━━━\u001b[0m\u001b[37m\u001b[0m \u001b[1m14s\u001b[0m 7ms/step - acc: 0.9968 - loss: 0.0112 - val_acc: 0.9820 - val_loss: 0.1685\n",
            "Epoch 34/50\n",
            "\u001b[1m1875/1875\u001b[0m \u001b[32m━━━━━━━━━━━━━━━━━━━━\u001b[0m\u001b[37m\u001b[0m \u001b[1m14s\u001b[0m 7ms/step - acc: 0.9968 - loss: 0.0115 - val_acc: 0.9814 - val_loss: 0.2000\n",
            "Epoch 35/50\n",
            "\u001b[1m1875/1875\u001b[0m \u001b[32m━━━━━━━━━━━━━━━━━━━━\u001b[0m\u001b[37m\u001b[0m \u001b[1m14s\u001b[0m 7ms/step - acc: 0.9960 - loss: 0.0154 - val_acc: 0.9830 - val_loss: 0.1682\n",
            "Epoch 36/50\n",
            "\u001b[1m1875/1875\u001b[0m \u001b[32m━━━━━━━━━━━━━━━━━━━━\u001b[0m\u001b[37m\u001b[0m \u001b[1m14s\u001b[0m 7ms/step - acc: 0.9971 - loss: 0.0101 - val_acc: 0.9807 - val_loss: 0.2101\n",
            "Epoch 37/50\n",
            "\u001b[1m1875/1875\u001b[0m \u001b[32m━━━━━━━━━━━━━━━━━━━━\u001b[0m\u001b[37m\u001b[0m \u001b[1m13s\u001b[0m 7ms/step - acc: 0.9962 - loss: 0.0173 - val_acc: 0.9821 - val_loss: 0.1890\n",
            "Epoch 38/50\n",
            "\u001b[1m1875/1875\u001b[0m \u001b[32m━━━━━━━━━━━━━━━━━━━━\u001b[0m\u001b[37m\u001b[0m \u001b[1m13s\u001b[0m 7ms/step - acc: 0.9968 - loss: 0.0096 - val_acc: 0.9824 - val_loss: 0.1932\n",
            "Epoch 39/50\n",
            "\u001b[1m1875/1875\u001b[0m \u001b[32m━━━━━━━━━━━━━━━━━━━━\u001b[0m\u001b[37m\u001b[0m \u001b[1m14s\u001b[0m 7ms/step - acc: 0.9970 - loss: 0.0109 - val_acc: 0.9813 - val_loss: 0.2112\n",
            "Epoch 40/50\n",
            "\u001b[1m1875/1875\u001b[0m \u001b[32m━━━━━━━━━━━━━━━━━━━━\u001b[0m\u001b[37m\u001b[0m \u001b[1m13s\u001b[0m 7ms/step - acc: 0.9965 - loss: 0.0133 - val_acc: 0.9824 - val_loss: 0.2061\n",
            "Epoch 41/50\n",
            "\u001b[1m1875/1875\u001b[0m \u001b[32m━━━━━━━━━━━━━━━━━━━━\u001b[0m\u001b[37m\u001b[0m \u001b[1m13s\u001b[0m 7ms/step - acc: 0.9963 - loss: 0.0153 - val_acc: 0.9830 - val_loss: 0.1970\n",
            "Epoch 42/50\n",
            "\u001b[1m1875/1875\u001b[0m \u001b[32m━━━━━━━━━━━━━━━━━━━━\u001b[0m\u001b[37m\u001b[0m \u001b[1m13s\u001b[0m 7ms/step - acc: 0.9971 - loss: 0.0089 - val_acc: 0.9840 - val_loss: 0.2070\n",
            "Epoch 43/50\n",
            "\u001b[1m1875/1875\u001b[0m \u001b[32m━━━━━━━━━━━━━━━━━━━━\u001b[0m\u001b[37m\u001b[0m \u001b[1m13s\u001b[0m 7ms/step - acc: 0.9975 - loss: 0.0093 - val_acc: 0.9813 - val_loss: 0.1993\n",
            "Epoch 44/50\n",
            "\u001b[1m1875/1875\u001b[0m \u001b[32m━━━━━━━━━━━━━━━━━━━━\u001b[0m\u001b[37m\u001b[0m \u001b[1m14s\u001b[0m 7ms/step - acc: 0.9973 - loss: 0.0095 - val_acc: 0.9818 - val_loss: 0.2189\n",
            "Epoch 45/50\n",
            "\u001b[1m1875/1875\u001b[0m \u001b[32m━━━━━━━━━━━━━━━━━━━━\u001b[0m\u001b[37m\u001b[0m \u001b[1m14s\u001b[0m 7ms/step - acc: 0.9970 - loss: 0.0127 - val_acc: 0.9819 - val_loss: 0.2094\n",
            "Epoch 46/50\n",
            "\u001b[1m1875/1875\u001b[0m \u001b[32m━━━━━━━━━━━━━━━━━━━━\u001b[0m\u001b[37m\u001b[0m \u001b[1m14s\u001b[0m 7ms/step - acc: 0.9965 - loss: 0.0145 - val_acc: 0.9807 - val_loss: 0.2270\n",
            "Epoch 47/50\n",
            "\u001b[1m1875/1875\u001b[0m \u001b[32m━━━━━━━━━━━━━━━━━━━━\u001b[0m\u001b[37m\u001b[0m \u001b[1m14s\u001b[0m 8ms/step - acc: 0.9967 - loss: 0.0119 - val_acc: 0.9820 - val_loss: 0.2020\n",
            "Epoch 48/50\n",
            "\u001b[1m1875/1875\u001b[0m \u001b[32m━━━━━━━━━━━━━━━━━━━━\u001b[0m\u001b[37m\u001b[0m \u001b[1m14s\u001b[0m 7ms/step - acc: 0.9980 - loss: 0.0085 - val_acc: 0.9838 - val_loss: 0.1914\n",
            "Epoch 49/50\n",
            "\u001b[1m1875/1875\u001b[0m \u001b[32m━━━━━━━━━━━━━━━━━━━━\u001b[0m\u001b[37m\u001b[0m \u001b[1m13s\u001b[0m 7ms/step - acc: 0.9972 - loss: 0.0106 - val_acc: 0.9807 - val_loss: 0.2394\n",
            "Epoch 50/50\n",
            "\u001b[1m1875/1875\u001b[0m \u001b[32m━━━━━━━━━━━━━━━━━━━━\u001b[0m\u001b[37m\u001b[0m \u001b[1m13s\u001b[0m 7ms/step - acc: 0.9971 - loss: 0.0105 - val_acc: 0.9824 - val_loss: 0.2046\n"
          ]
        }
      ],
      "source": [
        "# Training del modello\n",
        "batch_size = 32\n",
        "epochs = 50\n",
        "model_DNN = compile_model()\n",
        "\n",
        "history = model_DNN.fit(X_train, Y_train,\n",
        "          batch_size=batch_size,\n",
        "          epochs=epochs,\n",
        "          shuffle=True,\n",
        "          verbose=1,\n",
        "          validation_data=(X_test, Y_test))"
      ]
    },
    {
      "cell_type": "markdown",
      "metadata": {
        "id": "PpCRvnHpGq5u"
      },
      "source": [
        "#### Step 5: Evaluate the Model Performance on the *Unseen* Test Data\n",
        "\n",
        "Next, we evaluate the model and read of the loss on the test data, and its accuracy using the `evaluate()` method."
      ]
    },
    {
      "cell_type": "code",
      "execution_count": 8,
      "metadata": {
        "colab": {
          "base_uri": "https://localhost:8080/",
          "height": 978
        },
        "id": "fLWN14CaGq5v",
        "outputId": "8344bda7-c18d-4576-9cdc-bcd0adac44ac"
      },
      "outputs": [
        {
          "output_type": "stream",
          "name": "stdout",
          "text": [
            "\u001b[1m313/313\u001b[0m \u001b[32m━━━━━━━━━━━━━━━━━━━━\u001b[0m\u001b[37m\u001b[0m \u001b[1m1s\u001b[0m 3ms/step - acc: 0.9791 - loss: 0.2343\n",
            "Test loss: 0.20459197461605072\n",
            "Test accuracy: 0.9824000000953674\n"
          ]
        },
        {
          "output_type": "display_data",
          "data": {
            "text/plain": [
              "<Figure size 640x480 with 1 Axes>"
            ],
            "image/png": "[encoded data removed]"
          },
          "metadata": {}
        },
        {
          "output_type": "display_data",
          "data": {
            "text/plain": [
              "<Figure size 640x480 with 1 Axes>"
            ],
            "image/png": "[encoded data removed]"
          },
          "metadata": {}
        }
      ],
      "source": [
        "# Test del modello sui dati di validazione. Restituisce due valori:\n",
        "# - Loss (perdita): misura quanto le previsioni del modello si discostano dalla realtà.\n",
        "# - Accuracy (accuratezza): percentuale di esempi classificati correttamente.\n",
        "score = model_DNN.evaluate(X_test, Y_test, verbose=1)\n",
        "\n",
        "# Stampo loss e accuracy per il set di validazione\n",
        "print('Test loss:', score[0])\n",
        "print('Test accuracy:', score[1])\n",
        "\n",
        "# Plot dell'accuracy durante l'allenamento\n",
        "plt.plot(history.history['acc'], color='xkcd:darkish blue')\n",
        "plt.plot(history.history['val_acc'], color='xkcd:cloudy blue')\n",
        "plt.ylabel('Accuracy')\n",
        "plt.xlabel('Epoche')\n",
        "plt.legend(['Training', 'Validazione'], loc='best')\n",
        "plt.title('Accuracy del modello durante l\\'allenamento')\n",
        "plt.show()\n",
        "\n",
        "# Plot della loss durante l'allenamento\n",
        "plt.plot(history.history['loss'], color='xkcd:darkish blue')\n",
        "plt.plot(history.history['val_loss'], color='xkcd:cloudy blue')\n",
        "plt.ylabel('Loss')\n",
        "plt.xlabel('Epoche')\n",
        "plt.legend(['Training', 'Validazione'], loc='best')\n",
        "plt.title('Loss del modello durante l\\'allenamento')\n",
        "plt.show()"
      ]
    },
    {
      "cell_type": "markdown",
      "metadata": {
        "id": "WJbRl7P_Gq5w"
      },
      "source": [
        "Dropout, during training, slices off some artificial neurons, thus, training accuracy suffers.\n",
        "\n",
        "Dropout, during testing, turns itself off and allows all of the ‘weak classifiers’ in the neural network to be used. Thus, testing accuracy improves with respect to training accuracy."
      ]
    },
    {
      "cell_type": "code",
      "execution_count": 9,
      "metadata": {
        "colab": {
          "base_uri": "https://localhost:8080/",
          "height": 195
        },
        "id": "QrwA2XVAGq5x",
        "outputId": "79464455-4e05-42b3-d3b9-54d248cbbd64"
      },
      "outputs": [
        {
          "output_type": "stream",
          "name": "stdout",
          "text": [
            "\u001b[1m313/313\u001b[0m \u001b[32m━━━━━━━━━━━━━━━━━━━━\u001b[0m\u001b[37m\u001b[0m \u001b[1m1s\u001b[0m 3ms/step\n"
          ]
        },
        {
          "output_type": "display_data",
          "data": {
            "text/plain": [
              "<Figure size 1500x1500 with 10 Axes>"
            ],
            "image/png": "[encoded data removed]"
          },
          "metadata": {}
        }
      ],
      "source": [
        "X_test = X_test.reshape(X_test.shape[0], img_rows*img_cols)\n",
        "predictions = model_DNN.predict(X_test)\n",
        "\n",
        "X_test = X_test.reshape(X_test.shape[0], img_rows, img_cols,1)\n",
        "\n",
        "plt.figure(figsize=(15, 15))\n",
        "for i in range(10): # Mostro le prime 10 immagini e la loro etichetta\n",
        "    ax = plt.subplot(2, 10, i + 1)\n",
        "    plt.imshow(X_test[i, :, :, 0], cmap='gray')\n",
        "    plt.title(\"Digit: {}\\nPredicted: {}\".format(np.argmax(Y_test[i]), np.argmax(predictions[i])))\n",
        "    plt.axis('off')\n",
        "plt.show()"
      ]
    },
    {
      "cell_type": "markdown",
      "metadata": {
        "id": "i85v5TVTGq5y"
      },
      "source": [
        "### Exercise 12.1\n",
        "\n",
        "<span style=\"color:red\">Change at will and train your DNN by increasing the number of epochs to an adeuqate value</span>. Try to use at least two other optimizers, different from SGD: <span style=\"color:red\">watch to accuracy and loss for training and validation data and comment on the performances</span>."
      ]
    },
    {
      "cell_type": "markdown",
      "source": [
        "### *Esercizio 12.1 - Soluzione proposta*\n",
        "Per lo svolgimento di questo esercizio, è stato utilizzato lo script fornito per studiare come variano loss ed accuracy del modello a seconda del tipo di ottimizzatore.\n",
        "\n",
        "La rete neurale è stata costruita come segue:\n",
        "- un primo layer di neuroni, con 400 neuroni, ciascuno completamente connesso a tutti i 784 input. La funzione di attivazione è ReLU;\n",
        "- un primo hidden layer, completamente connesso, con 100 neuroni e attivazione ReLU;\n",
        "- layer di dropout, che disattiva casualmente il 50% dei neuroni  durante l’addestramento, al fine di evitare l'overfitting. Durante il test o la predizione, il dropout è disattivato e il modello usa tutti i neuroni;\n",
        "- layer denso in cui il numero di neuroni corrisponde al numero di classi (in questo caso 10, cioè le cifre da 0 a 9); l’attivazione avviene tramite softmax, che converte l’output in probabilità, cioè un vettore con 10 valori compresi tra 0 e 1 che sommano a 1. Questo permette al modello di definire in output con che probabilità l’immagine appartiene a ciascuna classe.\n",
        "\n",
        "Come funzione di perdita si utilizza la `categorical_crossentropy`, che serve a misurare quanto l’output del modello si discosta dalle etichette reali. Più è bassa, meglio il modello sta imparando.\n",
        "\n",
        "Sono state analizzate le performance della rete utilizzando tre ottimizzatori differenti. Per ciascuno, si riportano i risultati relativi a loss ed accuracy sul set di validazione, ad opera del modello allenato in $N_{epochs}=50$ epoche:\n",
        "\n",
        "1. *Stochastic Gradient Descent (SGD)*:\n",
        "  - Test loss: 0.06095379590988159\n",
        "  - Test accuracy: 0.9817000031471252\n",
        "\n",
        "2. *Adamax* $\\rightarrow$ ottimizzatore basato su Adam, che adatta automaticamente il learning rate in base ai gradienti calcolati per ciascun peso, utilizzando la norma $L^{(\\infty)}$:\n",
        "  - Test loss: 0.07883846014738083\n",
        "  - Test accuracy: 0.9833999872207642\n",
        "\n",
        "3. *Root Mean Square Propagation (RMSprop)* $\\rightarrow$ ottimizzatore che adatta il learning rate in base alle stime del momento del secondo ordine dei gradienti; rispetto ad Adam, RMSprop tende a dare più peso ai gradienti recenti rispetto ai gradienti passati:\n",
        "  - Test loss: 0.28334733843803406\n",
        "  - Test accuracy: 0.9828000068664551\n",
        "\n",
        "Indipendentemente dal tipo di ottimizzatore, il modello è stato in grado di riconoscere correttamente le cifre proposte.\n",
        "\n",
        "---\n"
      ],
      "metadata": {
        "id": "G2vlSQZELQLt"
      }
    },
    {
      "cell_type": "markdown",
      "metadata": {
        "id": "Kuk13-6qGq5y"
      },
      "source": [
        "#### Creating Convolutional Neural Nets with Keras\n",
        "\n",
        "We have so far considered each MNIST data sample as a $(28\\times 28,)$-long 1d vector. On the other hand, we do know that in every one of the hand-written digits there are *local* spatial correlations between the pixels, but also *translational invariance*, which we would like to take advantage of to improve the accuracy of our classification model. To this end, we first need to reshape the training and test input data as follows"
      ]
    },
    {
      "cell_type": "code",
      "execution_count": 10,
      "metadata": {
        "id": "2dsbpI6zGq50",
        "outputId": "ee0ff510-e643-4a67-ae7a-293e2e4d0906",
        "colab": {
          "base_uri": "https://localhost:8080/"
        }
      },
      "outputs": [
        {
          "output_type": "stream",
          "name": "stdout",
          "text": [
            "X_train shape: (60000, 28, 28, 1)\n",
            "Y_train shape: (60000, 10)\n",
            "\n",
            "60000 train samples\n",
            "10000 test samples\n"
          ]
        }
      ],
      "source": [
        "# Le reti neurali convoluzionali (CNN) non lavorano con dati \"linearizzati\" (ovvero trasformati in vettori), ma con immagini come matrici 2D o 3D (includendo il canale).\n",
        "# Quindi, siccome prima le immagini sono state convertite in vettori di 784 componenti, bisogna ricostruirle nella loro forma originale, aggiungendo anche il canale del colore (nel caso di MNIST, è 1 perché sono in scala di grigi).\n",
        "from keras.layers import Flatten, Conv2D, MaxPooling2D\n",
        "\n",
        "if keras.backend.image_data_format() == 'channels_first':\n",
        "    X_train = X_train.reshape(X_train.shape[0], 1, img_rows, img_cols)\n",
        "    X_test = X_test.reshape(X_test.shape[0], 1, img_rows, img_cols)\n",
        "    input_shape = (1, img_rows, img_cols)\n",
        "else:\n",
        "    X_train = X_train.reshape(X_train.shape[0], img_rows, img_cols, 1)\n",
        "    X_test = X_test.reshape(X_test.shape[0], img_rows, img_cols, 1)\n",
        "    input_shape = (img_rows, img_cols, 1)\n",
        "\n",
        "print('X_train shape:', X_train.shape)\n",
        "print('Y_train shape:', Y_train.shape)\n",
        "print()\n",
        "print(X_train.shape[0], 'train samples')\n",
        "print(X_test.shape[0], 'test samples')"
      ]
    },
    {
      "cell_type": "markdown",
      "metadata": {
        "id": "lnL9QeYGGq51"
      },
      "source": [
        "One can ask the question of whether a neural net can learn to recognize such local patterns. This can be achieved by using convolutional layers."
      ]
    },
    {
      "cell_type": "markdown",
      "metadata": {
        "id": "08L3LuF-Gq51"
      },
      "source": [
        "### Exercise 12.2\n",
        "\n",
        "\n",
        "Change the architecture of your DNN using convolutional layers. Use `Conv2D`, `MaxPooling2D`, `Dropout`, but also do not forget `Flatten`, a standard `Dense` layer and `soft-max` in the end. I have merged step 2 and 3 in the following definition of `create_CNN()` that **<span style=\"color:red\">you should complete</span>**:"
      ]
    },
    {
      "cell_type": "markdown",
      "source": [
        "### *Esercizio 12.2 - Soluzione proposta*\n",
        "Per lo svolgimento di questo esercizio, la rete neurale sviluppata nell'Esercizio 12.1 è stata rielaborata al fine di costruire una DNN con layers convoluzionali. La rete è strutturata come segue:\n",
        "1. layer convoluzionale con 32 filtri di dimensione 5x5. La funzione di attivazione è la ReLU. `input_shape` indica la forma delle immagini in input (es. 28x28x1).\n",
        "Questo layer scansiona l’immagine con 32 filtri diversi per estrarne le caratteristiche;\n",
        "2. layer di MaxPooling con finestre 2x2 e passo 2.\n",
        "Serve per ridurre la dimensione spaziale (larghezza e altezza) delle immagini, mantenendo le caratteristiche più importanti;\n",
        "3. layer convoluzionale con 64 filtri di dimensione 3x3. La funzione di attivazione è la ReLU;\n",
        "4. layer di MaxPooling con finestre 2x2 e passo 2, che permette di ridurre ancora la dimensione delle immagini.\n",
        "\n",
        "Dopo che i dati relativi alle immagini sono stati convertiti da matrice 2D a array 1D (`flatten`), si inseriscono i layer densi:\n",
        "1. layer denso con 50 neuroni e attivazione ReLU;\n",
        "2. layer di dropout (al 50%)\n",
        "2. layer denso con 20 neuroni e attivazione ReLU;\n",
        "3. layer denso con `num_classes` neuroni (10 per MNIST) e attivazione `softmax`.\n",
        "\n",
        "La rete è stata allenata per $N_{epochs}=25$ epoche, utilizzando come ottimizzatore l'algoritmo di Stochastic Gradient Descent, e come funzione di perdita la `categorical_crossentropy`."
      ],
      "metadata": {
        "id": "1BNQvRplS90P"
      }
    },
    {
      "cell_type": "code",
      "execution_count": 11,
      "metadata": {
        "id": "3WWQmSueGq52"
      },
      "outputs": [],
      "source": [
        "def create_CNN():\n",
        "    # Modello sequenziale\n",
        "    model = Sequential()\n",
        "\n",
        "    # Layer convoluzionale con 32 filtri 5x5 e attivazione ReLu\n",
        "    model.add(Conv2D(32, kernel_size=(5, 5),\n",
        "                     activation='relu',\n",
        "                     input_shape=input_shape)) # input_shape indica la forma delle immagini in input (es. 28x28x1).\n",
        "\n",
        "    # Layer di MaxPooling2D con finestre 2x2 e passo 2\n",
        "    model.add(MaxPooling2D(pool_size=(2, 2), strides=2))\n",
        "\n",
        "    # Layer convoluzionale con 64 filtri 3x3 e attivazione ReLu\n",
        "    model.add(Conv2D(64, kernel_size=(3, 3),\n",
        "                     activation='relu',\n",
        "                     input_shape=input_shape))\n",
        "\n",
        "    # Layer di MaxPooling2D con finestre 2x2 e passo 2\n",
        "    model.add(MaxPooling2D(pool_size=(2, 2), strides=2))\n",
        "\n",
        "    # Converte i dati da matrice 2D a vettore 1D per poterli collegare ai layer densi\n",
        "    model.add(Flatten())\n",
        "\n",
        "    # Layer densi:\n",
        "    # - 1° layer denso con 50 neuroni e attivazione ReLU\n",
        "    # - 2° layer di dropout\n",
        "    # - 3° layer denso con 20 neuroni e attivazione ReLu\n",
        "    # - 4° layer denso con num_classes neuroni (10 in questo caso) e attivazione softmax, che trasforma l’output in una distribuzione di probabilità sulle 10 classi.\n",
        "    model.add(Dense(50, activation='relu'))\n",
        "    model.add(Dropout(0.5))\n",
        "    model.add(Dense(20, activation='relu'))\n",
        "    model.add(Dense(num_classes, activation='softmax'))\n",
        "\n",
        "\n",
        "    model.compile(loss=keras.losses.categorical_crossentropy,\n",
        "                  optimizer='SGD', # Ottimizzatore SGD\n",
        "                  metrics=['acc']) # Monitorare accuracy per valutare il set di dati test\n",
        "    return model"
      ]
    },
    {
      "cell_type": "markdown",
      "metadata": {
        "id": "TBsef17AGq52"
      },
      "source": [
        "Train your DCNN and evaluate its performance proceeding exactly as before:"
      ]
    },
    {
      "cell_type": "code",
      "execution_count": 12,
      "metadata": {
        "id": "N0E74to4Gq53",
        "colab": {
          "base_uri": "https://localhost:8080/"
        },
        "outputId": "951ef942-5070-48fc-d918-3bc8fe910b3a"
      },
      "outputs": [
        {
          "metadata": {
            "tags": null
          },
          "name": "stderr",
          "output_type": "stream",
          "text": [
            "/usr/local/lib/python3.12/dist-packages/keras/src/layers/convolutional/base_conv.py:113: UserWarning: Do not pass an `input_shape`/`input_dim` argument to a layer. When using Sequential models, prefer using an `Input(shape)` object as the first layer in the model instead.\n",
            "  super().__init__(activity_regularizer=activity_regularizer, **kwargs)\n"
          ]
        },
        {
          "output_type": "stream",
          "name": "stdout",
          "text": [
            "Epoch 1/25\n",
            "\u001b[1m1875/1875\u001b[0m \u001b[32m━━━━━━━━━━━━━━━━━━━━\u001b[0m\u001b[37m\u001b[0m \u001b[1m54s\u001b[0m 28ms/step - acc: 0.4306 - loss: 1.6017 - val_acc: 0.9341 - val_loss: 0.2261\n",
            "Epoch 2/25\n",
            "\u001b[1m1875/1875\u001b[0m \u001b[32m━━━━━━━━━━━━━━━━━━━━\u001b[0m\u001b[37m\u001b[0m \u001b[1m53s\u001b[0m 28ms/step - acc: 0.8725 - loss: 0.4060 - val_acc: 0.9630 - val_loss: 0.1230\n",
            "Epoch 3/25\n",
            "\u001b[1m1875/1875\u001b[0m \u001b[32m━━━━━━━━━━━━━━━━━━━━\u001b[0m\u001b[37m\u001b[0m \u001b[1m53s\u001b[0m 28ms/step - acc: 0.9223 - loss: 0.2588 - val_acc: 0.9724 - val_loss: 0.0862\n",
            "Epoch 4/25\n",
            "\u001b[1m1875/1875\u001b[0m \u001b[32m━━━━━━━━━━━━━━━━━━━━\u001b[0m\u001b[37m\u001b[0m \u001b[1m52s\u001b[0m 28ms/step - acc: 0.9377 - loss: 0.2050 - val_acc: 0.9779 - val_loss: 0.0697\n",
            "Epoch 5/25\n",
            "\u001b[1m1875/1875\u001b[0m \u001b[32m━━━━━━━━━━━━━━━━━━━━\u001b[0m\u001b[37m\u001b[0m \u001b[1m83s\u001b[0m 28ms/step - acc: 0.9484 - loss: 0.1741 - val_acc: 0.9815 - val_loss: 0.0583\n",
            "Epoch 6/25\n",
            "\u001b[1m1875/1875\u001b[0m \u001b[32m━━━━━━━━━━━━━━━━━━━━\u001b[0m\u001b[37m\u001b[0m \u001b[1m81s\u001b[0m 28ms/step - acc: 0.9517 - loss: 0.1571 - val_acc: 0.9816 - val_loss: 0.0538\n",
            "Epoch 7/25\n",
            "\u001b[1m1875/1875\u001b[0m \u001b[32m━━━━━━━━━━━━━━━━━━━━\u001b[0m\u001b[37m\u001b[0m \u001b[1m52s\u001b[0m 28ms/step - acc: 0.9571 - loss: 0.1450 - val_acc: 0.9835 - val_loss: 0.0496\n",
            "Epoch 8/25\n",
            "\u001b[1m1875/1875\u001b[0m \u001b[32m━━━━━━━━━━━━━━━━━━━━\u001b[0m\u001b[37m\u001b[0m \u001b[1m52s\u001b[0m 28ms/step - acc: 0.9600 - loss: 0.1320 - val_acc: 0.9846 - val_loss: 0.0488\n",
            "Epoch 9/25\n",
            "\u001b[1m1875/1875\u001b[0m \u001b[32m━━━━━━━━━━━━━━━━━━━━\u001b[0m\u001b[37m\u001b[0m \u001b[1m82s\u001b[0m 28ms/step - acc: 0.9648 - loss: 0.1193 - val_acc: 0.9861 - val_loss: 0.0434\n",
            "Epoch 10/25\n",
            "\u001b[1m1875/1875\u001b[0m \u001b[32m━━━━━━━━━━━━━━━━━━━━\u001b[0m\u001b[37m\u001b[0m \u001b[1m52s\u001b[0m 28ms/step - acc: 0.9664 - loss: 0.1119 - val_acc: 0.9865 - val_loss: 0.0424\n",
            "Epoch 11/25\n",
            "\u001b[1m1875/1875\u001b[0m \u001b[32m━━━━━━━━━━━━━━━━━━━━\u001b[0m\u001b[37m\u001b[0m \u001b[1m52s\u001b[0m 28ms/step - acc: 0.9670 - loss: 0.1096 - val_acc: 0.9869 - val_loss: 0.0405\n",
            "Epoch 12/25\n",
            "\u001b[1m1875/1875\u001b[0m \u001b[32m━━━━━━━━━━━━━━━━━━━━\u001b[0m\u001b[37m\u001b[0m \u001b[1m82s\u001b[0m 28ms/step - acc: 0.9698 - loss: 0.1017 - val_acc: 0.9883 - val_loss: 0.0393\n",
            "Epoch 13/25\n",
            "\u001b[1m1875/1875\u001b[0m \u001b[32m━━━━━━━━━━━━━━━━━━━━\u001b[0m\u001b[37m\u001b[0m \u001b[1m52s\u001b[0m 28ms/step - acc: 0.9715 - loss: 0.0949 - val_acc: 0.9895 - val_loss: 0.0370\n",
            "Epoch 14/25\n",
            "\u001b[1m1875/1875\u001b[0m \u001b[32m━━━━━━━━━━━━━━━━━━━━\u001b[0m\u001b[37m\u001b[0m \u001b[1m52s\u001b[0m 28ms/step - acc: 0.9731 - loss: 0.0927 - val_acc: 0.9899 - val_loss: 0.0346\n",
            "Epoch 15/25\n",
            "\u001b[1m1875/1875\u001b[0m \u001b[32m━━━━━━━━━━━━━━━━━━━━\u001b[0m\u001b[37m\u001b[0m \u001b[1m52s\u001b[0m 28ms/step - acc: 0.9740 - loss: 0.0852 - val_acc: 0.9889 - val_loss: 0.0355\n",
            "Epoch 16/25\n",
            "\u001b[1m1875/1875\u001b[0m \u001b[32m━━━━━━━━━━━━━━━━━━━━\u001b[0m\u001b[37m\u001b[0m \u001b[1m53s\u001b[0m 28ms/step - acc: 0.9753 - loss: 0.0861 - val_acc: 0.9902 - val_loss: 0.0341\n",
            "Epoch 17/25\n",
            "\u001b[1m1875/1875\u001b[0m \u001b[32m━━━━━━━━━━━━━━━━━━━━\u001b[0m\u001b[37m\u001b[0m \u001b[1m81s\u001b[0m 28ms/step - acc: 0.9769 - loss: 0.0776 - val_acc: 0.9896 - val_loss: 0.0352\n",
            "Epoch 18/25\n",
            "\u001b[1m1875/1875\u001b[0m \u001b[32m━━━━━━━━━━━━━━━━━━━━\u001b[0m\u001b[37m\u001b[0m \u001b[1m52s\u001b[0m 28ms/step - acc: 0.9761 - loss: 0.0781 - val_acc: 0.9902 - val_loss: 0.0343\n",
            "Epoch 19/25\n",
            "\u001b[1m1875/1875\u001b[0m \u001b[32m━━━━━━━━━━━━━━━━━━━━\u001b[0m\u001b[37m\u001b[0m \u001b[1m82s\u001b[0m 28ms/step - acc: 0.9772 - loss: 0.0747 - val_acc: 0.9906 - val_loss: 0.0322\n",
            "Epoch 20/25\n",
            "\u001b[1m1875/1875\u001b[0m \u001b[32m━━━━━━━━━━━━━━━━━━━━\u001b[0m\u001b[37m\u001b[0m \u001b[1m82s\u001b[0m 28ms/step - acc: 0.9793 - loss: 0.0710 - val_acc: 0.9908 - val_loss: 0.0315\n",
            "Epoch 21/25\n",
            "\u001b[1m1875/1875\u001b[0m \u001b[32m━━━━━━━━━━━━━━━━━━━━\u001b[0m\u001b[37m\u001b[0m \u001b[1m82s\u001b[0m 28ms/step - acc: 0.9791 - loss: 0.0684 - val_acc: 0.9909 - val_loss: 0.0318\n",
            "Epoch 22/25\n",
            "\u001b[1m1875/1875\u001b[0m \u001b[32m━━━━━━━━━━━━━━━━━━━━\u001b[0m\u001b[37m\u001b[0m \u001b[1m83s\u001b[0m 28ms/step - acc: 0.9800 - loss: 0.0664 - val_acc: 0.9903 - val_loss: 0.0321\n",
            "Epoch 23/25\n",
            "\u001b[1m1875/1875\u001b[0m \u001b[32m━━━━━━━━━━━━━━━━━━━━\u001b[0m\u001b[37m\u001b[0m \u001b[1m55s\u001b[0m 29ms/step - acc: 0.9804 - loss: 0.0647 - val_acc: 0.9905 - val_loss: 0.0302\n",
            "Epoch 24/25\n",
            "\u001b[1m1875/1875\u001b[0m \u001b[32m━━━━━━━━━━━━━━━━━━━━\u001b[0m\u001b[37m\u001b[0m \u001b[1m80s\u001b[0m 28ms/step - acc: 0.9819 - loss: 0.0603 - val_acc: 0.9911 - val_loss: 0.0286\n",
            "Epoch 25/25\n",
            "\u001b[1m1875/1875\u001b[0m \u001b[32m━━━━━━━━━━━━━━━━━━━━\u001b[0m\u001b[37m\u001b[0m \u001b[1m53s\u001b[0m 28ms/step - acc: 0.9816 - loss: 0.0597 - val_acc: 0.9908 - val_loss: 0.0302\n",
            "\u001b[1m313/313\u001b[0m \u001b[32m━━━━━━━━━━━━━━━━━━━━\u001b[0m\u001b[37m\u001b[0m \u001b[1m3s\u001b[0m 8ms/step - acc: 0.9880 - loss: 0.0387\n",
            "Test loss: 0.03017442859709263\n",
            "Test accuracy: 0.9908000230789185\n"
          ]
        }
      ],
      "source": [
        "# Parametri del training\n",
        "batch_size = 32\n",
        "epochs = 25\n",
        "\n",
        "# Crezione e training del modello\n",
        "model_CNN=create_CNN()\n",
        "model_CNN.fit(X_train, Y_train,\n",
        "          batch_size=batch_size,\n",
        "          epochs=epochs,\n",
        "          shuffle=True,\n",
        "          verbose=1,\n",
        "          validation_data=(X_test, Y_test))\n",
        "\n",
        "# Test del modello con il set di validazione e valutazione di loss e accuracy\n",
        "score = model_CNN.evaluate(X_test, Y_test, verbose=1)\n",
        "\n",
        "print('Test loss:', score[0])\n",
        "print('Test accuracy:', score[1])"
      ]
    },
    {
      "cell_type": "markdown",
      "metadata": {
        "id": "JsiHEKOAGq53"
      },
      "source": [
        "In the end, **<span style=\"color:red\">add the evaluation of your CNN performances</span>** like that used for the DNN."
      ]
    },
    {
      "cell_type": "code",
      "source": [
        "X_test = X_test.reshape(X_test.shape[0], img_rows, img_cols)\n",
        "predictions = model_CNN.predict(X_test)\n",
        "\n",
        "X_test = X_test.reshape(X_test.shape[0], img_rows, img_cols,1)\n",
        "\n",
        "plt.figure(figsize=(15, 15))\n",
        "for i in range(10):\n",
        "    ax = plt.subplot(2, 10, i + 1)\n",
        "    plt.imshow(X_test[i, :, :, 0], cmap='gray')\n",
        "    plt.title(\"Digit: {}\\nPredicted: {}\".format(np.argmax(Y_test[i]), np.argmax(predictions[i])))\n",
        "    plt.axis('off')\n",
        "plt.show()"
      ],
      "metadata": {
        "colab": {
          "base_uri": "https://localhost:8080/",
          "height": 195
        },
        "id": "Pr2mbtycm4sI",
        "outputId": "f922dd45-7f4b-4fd0-b8b3-5a19b6ce81f2"
      },
      "execution_count": 13,
      "outputs": [
        {
          "output_type": "stream",
          "name": "stdout",
          "text": [
            "\u001b[1m313/313\u001b[0m \u001b[32m━━━━━━━━━━━━━━━━━━━━\u001b[0m\u001b[37m\u001b[0m \u001b[1m4s\u001b[0m 11ms/step\n"
          ]
        },
        {
          "output_type": "display_data",
          "data": {
            "text/plain": [
              "<Figure size 1500x1500 with 10 Axes>"
            ],
            "image/png": "[encoded data removed]"
          },
          "metadata": {}
        }
      ]
    },
    {
      "cell_type": "markdown",
      "source": [
        "Si nota che la rete è in grado di riconoscere in maniera corretta tutte le cifre proposte."
      ],
      "metadata": {
        "id": "hYRKi7pxYJVH"
      }
    },
    {
      "cell_type": "markdown",
      "metadata": {
        "id": "BV_zYcABGq54"
      },
      "source": [
        "### Exercise 12.3\n",
        "\n",
        "Use the `gimp` application to create 10 pictures of your \"handwritten\" digits, import them in your jupyter-notebook and try to see if your CNN is able to recognize your handwritten digits.\n",
        "\n",
        "For example, you can use the following code to import a picture of an handwritten digit\n",
        "(Note: you should install Python Image Library (PIL/Pillow):"
      ]
    },
    {
      "cell_type": "markdown",
      "source": [
        "### *Esercizio 12.3 - Soluzione proposta*\n",
        "Per valutare la bontà della rete neurale convoluzionale sviluppata per l’Esercizio 12.2, si prova a far riconoscere al modello le 10 cifre scritte a mano."
      ],
      "metadata": {
        "id": "vCP0helZZqtt"
      }
    },
    {
      "cell_type": "code",
      "execution_count": 14,
      "metadata": {
        "id": "gEExEx4OGq54",
        "colab": {
          "base_uri": "https://localhost:8080/",
          "height": 375
        },
        "outputId": "20bc251d-1504-4748-a375-0736236c0507"
      },
      "outputs": [
        {
          "output_type": "display_data",
          "data": {
            "text/plain": [
              "<IPython.core.display.HTML object>"
            ],
            "text/html": [
              "\n",
              "     <input type=\"file\" id=\"files-f664b46f-37b6-4dae-bc3d-1c0cabc60feb\" name=\"files[]\" multiple disabled\n",
              "        style=\"border:none\" />\n",
              "     <output id=\"result-f664b46f-37b6-4dae-bc3d-1c0cabc60feb\">\n",
              "      Upload widget is only available when the cell has been executed in the\n",
              "      current browser session. Please rerun this cell to enable.\n",
              "      </output>\n",
              "      <script>// Copyright 2017 Google LLC\n",
              "//\n",
              "// Licensed under the Apache License, Version 2.0 (the \"License\");\n",
              "// you may not use this file except in compliance with the License.\n",
              "// You may obtain a copy of the License at\n",
              "//\n",
              "//      http://www.apache.org/licenses/LICENSE-2.0\n",
              "//\n",
              "// Unless required by applicable law or agreed to in writing, software\n",
              "// distributed under the License is distributed on an \"AS IS\" BASIS,\n",
              "// WITHOUT WARRANTIES OR CONDITIONS OF ANY KIND, either express or implied.\n",
              "// See the License for the specific language governing permissions and\n",
              "// limitations under the License.\n",
              "\n",
              "/**\n",
              " * @fileoverview Helpers for google.colab Python module.\n",
              " */\n",
              "(function(scope) {\n",
              "function span(text, styleAttributes = {}) {\n",
              "  const element = document.createElement('span');\n",
              "  element.textContent = text;\n",
              "  for (const key of Object.keys(styleAttributes)) {\n",
              "    element.style[key] = styleAttributes[key];\n",
              "  }\n",
              "  return element;\n",
              "}\n",
              "\n",
              "// Max number of bytes which will be uploaded at a time.\n",
              "const MAX_PAYLOAD_SIZE = 100 * 1024;\n",
              "\n",
              "function _uploadFiles(inputId, outputId) {\n",
              "  const steps = uploadFilesStep(inputId, outputId);\n",
              "  const outputElement = document.getElementById(outputId);\n",
              "  // Cache steps on the outputElement to make it available for the next call\n",
              "  // to uploadFilesContinue from Python.\n",
              "  outputElement.steps = steps;\n",
              "\n",
              "  return _uploadFilesContinue(outputId);\n",
              "}\n",
              "\n",
              "// This is roughly an async generator (not supported in the browser yet),\n",
              "// where there are multiple asynchronous steps and the Python side is going\n",
              "// to poll for completion of each step.\n",
              "// This uses a Promise to block the python side on completion of each step,\n",
              "// then passes the result of the previous step as the input to the next step.\n",
              "function _uploadFilesContinue(outputId) {\n",
              "  const outputElement = document.getElementById(outputId);\n",
              "  const steps = outputElement.steps;\n",
              "\n",
              "  const next = steps.next(outputElement.lastPromiseValue);\n",
              "  return Promise.resolve(next.value.promise).then((value) => {\n",
              "    // Cache the last promise value to make it available to the next\n",
              "    // step of the generator.\n",
              "    outputElement.lastPromiseValue = value;\n",
              "    return next.value.response;\n",
              "  });\n",
              "}\n",
              "\n",
              "/**\n",
              " * Generator function which is called between each async step of the upload\n",
              " * process.\n",
              " * @param {string} inputId Element ID of the input file picker element.\n",
              " * @param {string} outputId Element ID of the output display.\n",
              " * @return {!Iterable<!Object>} Iterable of next steps.\n",
              " */\n",
              "function* uploadFilesStep(inputId, outputId) {\n",
              "  const inputElement = document.getElementById(inputId);\n",
              "  inputElement.disabled = false;\n",
              "\n",
              "  const outputElement = document.getElementById(outputId);\n",
              "  outputElement.innerHTML = '';\n",
              "\n",
              "  const pickedPromise = new Promise((resolve) => {\n",
              "    inputElement.addEventListener('change', (e) => {\n",
              "      resolve(e.target.files);\n",
              "    });\n",
              "  });\n",
              "\n",
              "  const cancel = document.createElement('button');\n",
              "  inputElement.parentElement.appendChild(cancel);\n",
              "  cancel.textContent = 'Cancel upload';\n",
              "  const cancelPromise = new Promise((resolve) => {\n",
              "    cancel.onclick = () => {\n",
              "      resolve(null);\n",
              "    };\n",
              "  });\n",
              "\n",
              "  // Wait for the user to pick the files.\n",
              "  const files = yield {\n",
              "    promise: Promise.race([pickedPromise, cancelPromise]),\n",
              "    response: {\n",
              "      action: 'starting',\n",
              "    }\n",
              "  };\n",
              "\n",
              "  cancel.remove();\n",
              "\n",
              "  // Disable the input element since further picks are not allowed.\n",
              "  inputElement.disabled = true;\n",
              "\n",
              "  if (!files) {\n",
              "    return {\n",
              "      response: {\n",
              "        action: 'complete',\n",
              "      }\n",
              "    };\n",
              "  }\n",
              "\n",
              "  for (const file of files) {\n",
              "    const li = document.createElement('li');\n",
              "    li.append(span(file.name, {fontWeight: 'bold'}));\n",
              "    li.append(span(\n",
              "        `(${file.type || 'n/a'}) - ${file.size} bytes, ` +\n",
              "        `last modified: ${\n",
              "            file.lastModifiedDate ? file.lastModifiedDate.toLocaleDateString() :\n",
              "                                    'n/a'} - `));\n",
              "    const percent = span('0% done');\n",
              "    li.appendChild(percent);\n",
              "\n",
              "    outputElement.appendChild(li);\n",
              "\n",
              "    const fileDataPromise = new Promise((resolve) => {\n",
              "      const reader = new FileReader();\n",
              "      reader.onload = (e) => {\n",
              "        resolve(e.target.result);\n",
              "      };\n",
              "      reader.readAsArrayBuffer(file);\n",
              "    });\n",
              "    // Wait for the data to be ready.\n",
              "    let fileData = yield {\n",
              "      promise: fileDataPromise,\n",
              "      response: {\n",
              "        action: 'continue',\n",
              "      }\n",
              "    };\n",
              "\n",
              "    // Use a chunked sending to avoid message size limits. See b/62115660.\n",
              "    let position = 0;\n",
              "    do {\n",
              "      const length = Math.min(fileData.byteLength - position, MAX_PAYLOAD_SIZE);\n",
              "      const chunk = new Uint8Array(fileData, position, length);\n",
              "      position += length;\n",
              "\n",
              "      const base64 = btoa(String.fromCharCode.apply(null, chunk));\n",
              "      yield {\n",
              "        response: {\n",
              "          action: 'append',\n",
              "          file: file.name,\n",
              "          data: base64,\n",
              "        },\n",
              "      };\n",
              "\n",
              "      let percentDone = fileData.byteLength === 0 ?\n",
              "          100 :\n",
              "          Math.round((position / fileData.byteLength) * 100);\n",
              "      percent.textContent = `${percentDone}% done`;\n",
              "\n",
              "    } while (position < fileData.byteLength);\n",
              "  }\n",
              "\n",
              "  // All done.\n",
              "  yield {\n",
              "    response: {\n",
              "      action: 'complete',\n",
              "    }\n",
              "  };\n",
              "}\n",
              "\n",
              "scope.google = scope.google || {};\n",
              "scope.google.colab = scope.google.colab || {};\n",
              "scope.google.colab._files = {\n",
              "  _uploadFiles,\n",
              "  _uploadFilesContinue,\n",
              "};\n",
              "})(self);\n",
              "</script> "
            ]
          },
          "metadata": {}
        },
        {
          "output_type": "stream",
          "name": "stdout",
          "text": [
            "Saving 0.png to 0.png\n",
            "Saving 1.png to 1.png\n",
            "Saving 2.png to 2.png\n",
            "Saving 3.png to 3.png\n",
            "Saving 4.png to 4.png\n",
            "Saving 5.png to 5.png\n",
            "Saving 6.png to 6.png\n",
            "Saving 7.png to 7.png\n",
            "Saving 8.png to 8.png\n",
            "Saving 9.png to 9.png\n"
          ]
        }
      ],
      "source": [
        "from google.colab import files\n",
        "import os\n",
        "\n",
        "for i in range(10):\n",
        "    filename = f\"{i}.png\"\n",
        "    if os.path.exists(filename):\n",
        "        os.remove(filename)\n",
        "\n",
        "upload = files.upload()"
      ]
    },
    {
      "cell_type": "markdown",
      "metadata": {
        "id": "OxNN9bjBGq55"
      },
      "source": [
        "I use the previously trained DNN to predict the digit:"
      ]
    },
    {
      "cell_type": "code",
      "execution_count": 15,
      "metadata": {
        "id": "Wvgp6v_1Gq56",
        "outputId": "2a9e121d-4e55-49b2-bf4f-bbd230dc1343",
        "colab": {
          "base_uri": "https://localhost:8080/",
          "height": 643
        }
      },
      "outputs": [
        {
          "output_type": "stream",
          "name": "stdout",
          "text": [
            "\u001b[1m1/1\u001b[0m \u001b[32m━━━━━━━━━━━━━━━━━━━━\u001b[0m\u001b[37m\u001b[0m \u001b[1m0s\u001b[0m 54ms/step\n",
            "\u001b[1m1/1\u001b[0m \u001b[32m━━━━━━━━━━━━━━━━━━━━\u001b[0m\u001b[37m\u001b[0m \u001b[1m0s\u001b[0m 51ms/step\n",
            "\u001b[1m1/1\u001b[0m \u001b[32m━━━━━━━━━━━━━━━━━━━━\u001b[0m\u001b[37m\u001b[0m \u001b[1m0s\u001b[0m 57ms/step\n",
            "\u001b[1m1/1\u001b[0m \u001b[32m━━━━━━━━━━━━━━━━━━━━\u001b[0m\u001b[37m\u001b[0m \u001b[1m0s\u001b[0m 51ms/step\n",
            "\u001b[1m1/1\u001b[0m \u001b[32m━━━━━━━━━━━━━━━━━━━━\u001b[0m\u001b[37m\u001b[0m \u001b[1m0s\u001b[0m 53ms/step\n",
            "\u001b[1m1/1\u001b[0m \u001b[32m━━━━━━━━━━━━━━━━━━━━\u001b[0m\u001b[37m\u001b[0m \u001b[1m0s\u001b[0m 47ms/step\n",
            "\u001b[1m1/1\u001b[0m \u001b[32m━━━━━━━━━━━━━━━━━━━━\u001b[0m\u001b[37m\u001b[0m \u001b[1m0s\u001b[0m 51ms/step\n",
            "\u001b[1m1/1\u001b[0m \u001b[32m━━━━━━━━━━━━━━━━━━━━\u001b[0m\u001b[37m\u001b[0m \u001b[1m0s\u001b[0m 54ms/step\n",
            "\u001b[1m1/1\u001b[0m \u001b[32m━━━━━━━━━━━━━━━━━━━━\u001b[0m\u001b[37m\u001b[0m \u001b[1m0s\u001b[0m 47ms/step\n",
            "\u001b[1m1/1\u001b[0m \u001b[32m━━━━━━━━━━━━━━━━━━━━\u001b[0m\u001b[37m\u001b[0m \u001b[1m0s\u001b[0m 50ms/step\n"
          ]
        },
        {
          "output_type": "display_data",
          "data": {
            "text/plain": [
              "<Figure size 1000x500 with 10 Axes>"
            ],
            "image/png": "[encoded data removed]"
          },
          "metadata": {}
        }
      ],
      "source": [
        "from PIL import Image\n",
        "import numpy as np\n",
        "import matplotlib.pyplot as plt\n",
        "\n",
        "def predict_digit(filename):\n",
        "    img = Image.open(filename).convert('L').resize((28, 28))\n",
        "    data = np.array(img) / 255.0\n",
        "    data = data.reshape(1, 28, 28).astype(np.float32)\n",
        "    pred = model_CNN.predict(data)\n",
        "    pred_digit = np.argmax(pred)\n",
        "    return img, pred_digit  # Restituisce immagine e predizione\n",
        "\n",
        "fig, axes = plt.subplots(2, 5, figsize=(10, 5))\n",
        "\n",
        "for i in range(10):\n",
        "    img, pred = predict_digit(f\"{i}.png\")\n",
        "    r = i // 5\n",
        "    c = i % 5\n",
        "    axes[r, c].imshow(img, cmap='gray')\n",
        "    axes[r, c].set_title(f\"Previsione: {pred}\")\n",
        "    axes[r, c].axis('off')\n",
        "\n",
        "plt.tight_layout()\n",
        "plt.show()\n"
      ]
    },
    {
      "cell_type": "markdown",
      "source": [
        "La rete non è in grado di riconoscere correttamente il 4, che viene classificato come 6, e il 6, che viene classificato come 5.\n",
        "Questi errori suggeriscono che le cifre presentate in fase di test presentano dei pattern locali, come l’inclinazione, la curvatura o l’apertura dei tratti, che la rete non ha visto in fase di allenamento. Dunque, non riesce a generalizzare sempre in maniera efficace, fallendo nella classificazione di alcune cifre.\n"
      ],
      "metadata": {
        "id": "86TM4GK3O1bx"
      }
    }
  ],
  "metadata": {
    "kernelspec": {
      "display_name": "Python 3 (ipykernel)",
      "language": "python",
      "name": "python3"
    },
    "language_info": {
      "codemirror_mode": {
        "name": "ipython",
        "version": 3
      },
      "file_extension": ".py",
      "mimetype": "text/x-python",
      "name": "python",
      "nbconvert_exporter": "python",
      "pygments_lexer": "ipython3",
      "version": "3.9.13"
    },
    "colab": {
      "provenance": [],
      "include_colab_link": true
    }
  },
  "nbformat": 4,
  "nbformat_minor": 0
}